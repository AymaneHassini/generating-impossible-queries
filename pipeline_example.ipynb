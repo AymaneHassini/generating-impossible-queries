{
 "cells": [
  {
   "cell_type": "code",
   "execution_count": 1,
   "id": "7bf75756-8963-4877-b101-732db309b966",
   "metadata": {},
   "outputs": [
    {
     "name": "stderr",
     "output_type": "stream",
     "text": [
      "/home/nightstalker/miniconda3/envs/pytorch/lib/python3.11/site-packages/tqdm/auto.py:21: TqdmWarning: IProgress not found. Please update jupyter and ipywidgets. See https://ipywidgets.readthedocs.io/en/stable/user_install.html\n",
      "  from .autonotebook import tqdm as notebook_tqdm\n"
     ]
    }
   ],
   "source": [
    "import numpy as np\n",
    "from preprocessing.text import tokenize\n",
    "from models.llm import load_llm\n",
    "from models.classifier import load_classifier\n",
    "from tqdm import tqdm\n",
    "from preprocessing.image import preprocess_and_check_image\n",
    "from database.connect import conn\n",
    "from preprocessing.document import extract_text_from_pdf\n",
    "from tqdm import tqdm"
   ]
  },
  {
   "cell_type": "code",
   "execution_count": 2,
   "id": "ee104663-37b5-494a-8ef3-e91ae0938798",
   "metadata": {},
   "outputs": [],
   "source": [
    "llm = load_llm()\n",
    "trainer, tokenizer = load_classifier()"
   ]
  },
  {
   "cell_type": "code",
   "execution_count": 3,
   "id": "1da46c8f-deca-4b64-9814-94218f6145d1",
   "metadata": {},
   "outputs": [],
   "source": [
    "cursor = conn.cursor()\n",
    "cursor.execute(\"SELECT * FROM Baby_Bath_Skin_and_Grooming\") \n",
    "rows = cursor.fetchall()"
   ]
  },
  {
   "cell_type": "code",
   "execution_count": 4,
   "id": "ec6b2982-2476-4538-9172-20ffc4d76829",
   "metadata": {},
   "outputs": [
    {
     "data": {
      "text/plain": [
       "(['id',\n",
       "  'name',\n",
       "  'main_category',\n",
       "  'sub_category',\n",
       "  'image',\n",
       "  'ratings',\n",
       "  'no_of_ratings',\n",
       "  'discount_price',\n",
       "  'actual_price'],\n",
       " [0])"
      ]
     },
     "execution_count": 4,
     "metadata": {},
     "output_type": "execute_result"
    }
   ],
   "source": [
    "IMAGE_INDEX = 4\n",
    "DOC_INDEX = None\n",
    "PRIMARY_KEY = ['id']\n",
    "user_prompt = \"Does it have a baby picture on it that is seen easily in the package?\"\n",
    "picture_prompt = \"analyze the picture\"\n",
    "row_prompt = \"analyze the row data\"\n",
    "document_prompt = \"analyze the document\"\n",
    "\n",
    "image_flag = 1\n",
    "document_flag = 0\n",
    "\n",
    "columns = [col[0] for col in cursor.description]\n",
    "pk_index = [i for i in range(len(columns)) if columns[i] in PRIMARY_KEY]\n",
    "\n",
    "columns, pk_index"
   ]
  },
  {
   "cell_type": "code",
   "execution_count": 6,
   "id": "c61ac7e2-8bc6-4d2c-a30b-178ce2ae0e5b",
   "metadata": {},
   "outputs": [
    {
     "name": "stderr",
     "output_type": "stream",
     "text": [
      "  0%|                                                                                                                                                                                                                  | 0/20 [00:00<?, ?it/s]"
     ]
    },
    {
     "data": {
      "text/html": [],
      "text/plain": [
       "<IPython.core.display.HTML object>"
      ]
     },
     "metadata": {},
     "output_type": "display_data"
    },
    {
     "name": "stderr",
     "output_type": "stream",
     "text": [
      "\u001b[34m\u001b[1mwandb\u001b[0m: \u001b[33mWARNING\u001b[0m The `run_name` is currently set to the same value as `TrainingArguments.output_dir`. If this was not intended, please specify a different run name by setting the `TrainingArguments.run_name` parameter.\n",
      "Failed to detect the name of this notebook, you can set it manually with the WANDB_NOTEBOOK_NAME environment variable to enable code saving.\n",
      "\u001b[34m\u001b[1mwandb\u001b[0m: Using wandb-core as the SDK backend. Please refer to https://wandb.me/wandb-core for more information.\n",
      "\u001b[34m\u001b[1mwandb\u001b[0m: Currently logged in as: \u001b[33mmehdinejjar\u001b[0m (\u001b[33mmehdinejjar-al-akhawayn-university\u001b[0m). Use \u001b[1m`wandb login --relogin`\u001b[0m to force relogin\n"
     ]
    },
    {
     "data": {
      "text/html": [
       "Tracking run with wandb version 0.18.3"
      ],
      "text/plain": [
       "<IPython.core.display.HTML object>"
      ]
     },
     "metadata": {},
     "output_type": "display_data"
    },
    {
     "data": {
      "text/html": [
       "Run data is saved locally in <code>/home/nightstalker/Projects/ml/advanced_ai_data_filter/wandb/run-20241115_114725-iti3umeu</code>"
      ],
      "text/plain": [
       "<IPython.core.display.HTML object>"
      ]
     },
     "metadata": {},
     "output_type": "display_data"
    },
    {
     "data": {
      "text/html": [
       "Syncing run <strong><a href='https://wandb.ai/mehdinejjar-al-akhawayn-university/huggingface/runs/iti3umeu' target=\"_blank\">tmp_trainer</a></strong> to <a href='https://wandb.ai/mehdinejjar-al-akhawayn-university/huggingface' target=\"_blank\">Weights & Biases</a> (<a href='https://wandb.me/run' target=\"_blank\">docs</a>)<br/>"
      ],
      "text/plain": [
       "<IPython.core.display.HTML object>"
      ]
     },
     "metadata": {},
     "output_type": "display_data"
    },
    {
     "data": {
      "text/html": [
       " View project at <a href='https://wandb.ai/mehdinejjar-al-akhawayn-university/huggingface' target=\"_blank\">https://wandb.ai/mehdinejjar-al-akhawayn-university/huggingface</a>"
      ],
      "text/plain": [
       "<IPython.core.display.HTML object>"
      ]
     },
     "metadata": {},
     "output_type": "display_data"
    },
    {
     "data": {
      "text/html": [
       " View run at <a href='https://wandb.ai/mehdinejjar-al-akhawayn-university/huggingface/runs/iti3umeu' target=\"_blank\">https://wandb.ai/mehdinejjar-al-akhawayn-university/huggingface/runs/iti3umeu</a>"
      ],
      "text/plain": [
       "<IPython.core.display.HTML object>"
      ]
     },
     "metadata": {},
     "output_type": "display_data"
    },
    {
     "name": "stderr",
     "output_type": "stream",
     "text": [
      "  5%|██████████                                                                                                                                                                                                | 1/20 [00:04<01:18,  4.11s/it]"
     ]
    },
    {
     "data": {
      "text/html": [],
      "text/plain": [
       "<IPython.core.display.HTML object>"
      ]
     },
     "metadata": {},
     "output_type": "display_data"
    },
    {
     "name": "stderr",
     "output_type": "stream",
     "text": [
      " 10%|████████████████████▏                                                                                                                                                                                     | 2/20 [00:06<00:57,  3.22s/it]"
     ]
    },
    {
     "data": {
      "text/html": [],
      "text/plain": [
       "<IPython.core.display.HTML object>"
      ]
     },
     "metadata": {},
     "output_type": "display_data"
    },
    {
     "name": "stderr",
     "output_type": "stream",
     "text": [
      " 15%|██████████████████████████████▎                                                                                                                                                                           | 3/20 [00:09<00:48,  2.83s/it]"
     ]
    },
    {
     "data": {
      "text/html": [],
      "text/plain": [
       "<IPython.core.display.HTML object>"
      ]
     },
     "metadata": {},
     "output_type": "display_data"
    },
    {
     "name": "stderr",
     "output_type": "stream",
     "text": [
      " 20%|████████████████████████████████████████▍                                                                                                                                                                 | 4/20 [00:11<00:42,  2.68s/it]"
     ]
    },
    {
     "data": {
      "text/html": [],
      "text/plain": [
       "<IPython.core.display.HTML object>"
      ]
     },
     "metadata": {},
     "output_type": "display_data"
    },
    {
     "name": "stderr",
     "output_type": "stream",
     "text": [
      " 25%|██████████████████████████████████████████████████▌                                                                                                                                                       | 5/20 [00:14<00:39,  2.64s/it]"
     ]
    },
    {
     "data": {
      "text/html": [],
      "text/plain": [
       "<IPython.core.display.HTML object>"
      ]
     },
     "metadata": {},
     "output_type": "display_data"
    },
    {
     "name": "stderr",
     "output_type": "stream",
     "text": [
      " 30%|████████████████████████████████████████████████████████████▌                                                                                                                                             | 6/20 [00:16<00:36,  2.58s/it]"
     ]
    },
    {
     "data": {
      "text/html": [],
      "text/plain": [
       "<IPython.core.display.HTML object>"
      ]
     },
     "metadata": {},
     "output_type": "display_data"
    },
    {
     "name": "stderr",
     "output_type": "stream",
     "text": [
      " 35%|██████████████████████████████████████████████████████████████████████▋                                                                                                                                   | 7/20 [00:19<00:33,  2.58s/it]"
     ]
    },
    {
     "data": {
      "text/html": [],
      "text/plain": [
       "<IPython.core.display.HTML object>"
      ]
     },
     "metadata": {},
     "output_type": "display_data"
    },
    {
     "name": "stderr",
     "output_type": "stream",
     "text": [
      " 40%|████████████████████████████████████████████████████████████████████████████████▊                                                                                                                         | 8/20 [00:21<00:29,  2.47s/it]"
     ]
    },
    {
     "data": {
      "text/html": [],
      "text/plain": [
       "<IPython.core.display.HTML object>"
      ]
     },
     "metadata": {},
     "output_type": "display_data"
    },
    {
     "name": "stderr",
     "output_type": "stream",
     "text": [
      " 45%|██████████████████████████████████████████████████████████████████████████████████████████▉                                                                                                               | 9/20 [00:24<00:27,  2.53s/it]"
     ]
    },
    {
     "data": {
      "text/html": [],
      "text/plain": [
       "<IPython.core.display.HTML object>"
      ]
     },
     "metadata": {},
     "output_type": "display_data"
    },
    {
     "name": "stderr",
     "output_type": "stream",
     "text": [
      " 50%|████████████████████████████████████████████████████████████████████████████████████████████████████▌                                                                                                    | 10/20 [00:27<00:26,  2.70s/it]"
     ]
    },
    {
     "data": {
      "text/html": [],
      "text/plain": [
       "<IPython.core.display.HTML object>"
      ]
     },
     "metadata": {},
     "output_type": "display_data"
    },
    {
     "name": "stderr",
     "output_type": "stream",
     "text": [
      " 55%|██████████████████████████████████████████████████████████████████████████████████████████████████████████████▌                                                                                          | 11/20 [00:32<00:30,  3.44s/it]"
     ]
    },
    {
     "data": {
      "text/html": [],
      "text/plain": [
       "<IPython.core.display.HTML object>"
      ]
     },
     "metadata": {},
     "output_type": "display_data"
    },
    {
     "name": "stderr",
     "output_type": "stream",
     "text": [
      " 60%|████████████████████████████████████████████████████████████████████████████████████████████████████████████████████████▌                                                                                | 12/20 [00:35<00:27,  3.45s/it]"
     ]
    },
    {
     "data": {
      "text/html": [],
      "text/plain": [
       "<IPython.core.display.HTML object>"
      ]
     },
     "metadata": {},
     "output_type": "display_data"
    },
    {
     "name": "stderr",
     "output_type": "stream",
     "text": [
      " 65%|██████████████████████████████████████████████████████████████████████████████████████████████████████████████████████████████████▋                                                                      | 13/20 [00:37<00:21,  3.02s/it]"
     ]
    },
    {
     "data": {
      "text/html": [],
      "text/plain": [
       "<IPython.core.display.HTML object>"
      ]
     },
     "metadata": {},
     "output_type": "display_data"
    },
    {
     "name": "stderr",
     "output_type": "stream",
     "text": [
      " 70%|████████████████████████████████████████████████████████████████████████████████████████████████████████████████████████████████████████████▋                                                            | 14/20 [00:40<00:17,  2.88s/it]"
     ]
    },
    {
     "data": {
      "text/html": [],
      "text/plain": [
       "<IPython.core.display.HTML object>"
      ]
     },
     "metadata": {},
     "output_type": "display_data"
    },
    {
     "name": "stderr",
     "output_type": "stream",
     "text": [
      " 75%|██████████████████████████████████████████████████████████████████████████████████████████████████████████████████████████████████████████████████████▊                                                  | 15/20 [00:42<00:14,  2.82s/it]"
     ]
    },
    {
     "data": {
      "text/html": [],
      "text/plain": [
       "<IPython.core.display.HTML object>"
      ]
     },
     "metadata": {},
     "output_type": "display_data"
    },
    {
     "name": "stderr",
     "output_type": "stream",
     "text": [
      " 80%|████████████████████████████████████████████████████████████████████████████████████████████████████████████████████████████████████████████████████████████████▊                                        | 16/20 [00:45<00:10,  2.68s/it]"
     ]
    },
    {
     "data": {
      "text/html": [],
      "text/plain": [
       "<IPython.core.display.HTML object>"
      ]
     },
     "metadata": {},
     "output_type": "display_data"
    },
    {
     "name": "stderr",
     "output_type": "stream",
     "text": [
      " 85%|██████████████████████████████████████████████████████████████████████████████████████████████████████████████████████████████████████████████████████████████████████████▊                              | 17/20 [00:47<00:07,  2.55s/it]"
     ]
    },
    {
     "data": {
      "text/html": [],
      "text/plain": [
       "<IPython.core.display.HTML object>"
      ]
     },
     "metadata": {},
     "output_type": "display_data"
    },
    {
     "name": "stderr",
     "output_type": "stream",
     "text": [
      " 90%|████████████████████████████████████████████████████████████████████████████████████████████████████████████████████████████████████████████████████████████████████████████████████▉                    | 18/20 [00:50<00:05,  2.58s/it]"
     ]
    },
    {
     "data": {
      "text/html": [],
      "text/plain": [
       "<IPython.core.display.HTML object>"
      ]
     },
     "metadata": {},
     "output_type": "display_data"
    },
    {
     "name": "stderr",
     "output_type": "stream",
     "text": [
      " 95%|██████████████████████████████████████████████████████████████████████████████████████████████████████████████████████████████████████████████████████████████████████████████████████████████▉          | 19/20 [00:52<00:02,  2.48s/it]"
     ]
    },
    {
     "data": {
      "text/html": [],
      "text/plain": [
       "<IPython.core.display.HTML object>"
      ]
     },
     "metadata": {},
     "output_type": "display_data"
    },
    {
     "name": "stderr",
     "output_type": "stream",
     "text": [
      "100%|█████████████████████████████████████████████████████████████████████████████████████████████████████████████████████████████████████████████████████████████████████████████████████████████████████████| 20/20 [00:55<00:00,  2.77s/it]\n"
     ]
    }
   ],
   "source": [
    "results_text = []\n",
    "PK = []\n",
    "indices = []\n",
    "predicted_classes = []\n",
    "\n",
    "def text_llm(row):\n",
    "    prompt = f\"{row_prompt}.\\n{user_prompt}\"\n",
    "    text_data = \" | \".join([f\"{columns[j]}: {row[j]}\" for j in range(len(columns)) if j != IMAGE_INDEX])\n",
    "    result = llm.generate_content(\n",
    "        [f\"Row data: {text_data}\\n\\n\", prompt]\n",
    "    )\n",
    "    return result.text\n",
    "\n",
    "def image_llm(image, row):\n",
    "    prompt = f\"{picture_prompt}, and {row_prompt}.\\n{user_prompt}\"\n",
    "    text_data = \" | \".join([f\"{columns[j]}: {row[j]}\" for j in range(len(columns)) if j != IMAGE_INDEX])\n",
    "    result = llm.generate_content(\n",
    "        [image, \"\\n\\n\", f\"Row data: {text_data}\\n\\n\", prompt]\n",
    "    )\n",
    "    return result.text\n",
    "\n",
    "def document_llm(document, row):\n",
    "    prompt = f\"{document_prompt}, and {row_prompt}.\\n{user_prompt}\"\n",
    "    text_data = \" | \".join([f\"{columns[j]}: {row[j]}\" for j in range(len(columns)) if j != DOC_INDEX])\n",
    "    result = llm.generate_content(\n",
    "        [document, \"\\n\\n\", f\"Row data: {text_data}\\n\\n\", prompt]\n",
    "    )\n",
    "    return result.text\n",
    "\n",
    "def image_document_llm(image, document, row):\n",
    "    prompt = f\"{picture_prompt}, {document_prompt}, and {row_prompt}.\\n{user_prompt}\"\n",
    "    text_data = \" | \".join([f\"{columns[j]}: {row[j]}\" for j in range(len(columns)) if j != IMAGE_INDEX and j != DOC_INDEX])\n",
    "    result = llm.generate_content(\n",
    "        [image, document, \"\\n\\n\", f\"Row data: {text_data}\\n\\n\", prompt]\n",
    "    )\n",
    "    return result.text\n",
    "\n",
    "\n",
    "for i in tqdm(range(len(rows[:20]))):\n",
    "\n",
    "    if not image_flag and not document_flag:\n",
    "        result_text = text_llm(rows[i])\n",
    "    \n",
    "    elif image_flag and not document_flag:\n",
    "        image = preprocess_and_check_image(rows[i][IMAGE_INDEX])\n",
    "        if image:\n",
    "            result_text = image_llm(image, rows[i])\n",
    "        else:\n",
    "            result_text = text_llm(rows[i])\n",
    "\n",
    "    elif not image_flag and document_flag:\n",
    "        ## Apply logic of reading pdf\n",
    "        document = extract_text_from_pdf(rows[i][DOC_INDEX])\n",
    "        if document:\n",
    "            result_text = document_llm(document, rows[i])\n",
    "        else:\n",
    "            result_text = text_llm(rows[i])\n",
    "        \n",
    "    elif image_flag and document_flag:\n",
    "        document = extract_text_from_pdf(rows[i][DOC_INDEX])\n",
    "        image = preprocess_and_check_image(rows[i][IMAGE_INDEX])\n",
    "        if document and image:\n",
    "            result_text = image_document_llm(image, document, rows[i])\n",
    "        elif document and image:\n",
    "            result_text = document_llm(document, rows[i])\n",
    "        elif not document and image:\n",
    "            result_text = image_llm(image, rows[i])\n",
    "        elif not document and not image:\n",
    "            result_text = text_llm(rows[i])\n",
    "\n",
    "        \n",
    "    classifier_text = f\"Question: {user_prompt} Answer: {result_text}\"\n",
    "    results_text.append(result_text)\n",
    "    dataset_subset = tokenize(classifier_text, tokenizer)\n",
    "    predictions = trainer.predict(dataset_subset)\n",
    "\n",
    "    predicted_class = np.argmax(predictions.predictions, axis=1)[0]\n",
    "    predicted_classes.append(predicted_class)\n",
    "    \n",
    "    if predicted_class <= 1:\n",
    "        indices.append(i)\n",
    "        PK.append([rows[i][j] for j in pk_index])"
   ]
  },
  {
   "cell_type": "code",
   "execution_count": 7,
   "id": "ef2a5658-3c90-4722-8bdf-24dbc6080be2",
   "metadata": {},
   "outputs": [
    {
     "data": {
      "text/plain": [
       "([\"Yes, the product clearly features a picture of a baby playing with a stacking toy.  It's prominent on the front label and easily noticeable. This aligns with the product description indicating its use for cleaning baby items.\\n\",\n",
       "  'No, the product image shows a baby bather with illustrations of sea creatures (narwhal, shark, octopus, fish, turtle), not actual photographs or images of babies. While designed for babies, the imagery used is cartoonish and focused on an underwater theme.\\n',\n",
       "  \"Yes, the product packaging clearly displays a stylized illustration of a baby's head, emphasizing that the product is for babies. This is consistent with the product name and description provided in the row data, which confirms it is a baby massage oil.\\n\",\n",
       "  'No, the picture on the bottle is of lotus and meadowsweet flowers, not a baby. While the product is clearly marketed for babies (as indicated by \"Baby Moments\" and \"0+\"), there are no actual images of babies on the packaging.\\n',\n",
       "  \"The product image does *not* show a clearly visible picture of a baby's face. It features a stylized illustration of a baby being washed, but no distinct baby face is present.  The illustration emphasizes the gentle washing action rather than showing a baby's portrait.\\n\",\n",
       "  \"No, there is no baby picture readily visible on the packaging in the image.  The packaging focuses on the Johnson's branding and highlights key ingredients like avocado and pro-vitamin B5.\\n\",\n",
       "  'No, there is no baby picture readily visible on the packaging. The packaging features the Chicco logo, product name (\"Baby Moments Soap\"), a stylized heart graphic, images of almonds and olives (representing the key ingredients), and text describing the product\\'s features.',\n",
       "  \"Yes, the product packaging clearly features a baby's picture.  The baby is partially wrapped in a blanket and is visible on the front of the box.  It's a prominent part of the packaging design.\\n\",\n",
       "  'No, there is no actual baby picture on the package. There are stylized stick figures of an adult and child representing the application of four dots of the product for protection. While the product is intended for use on babies, it does not feature a realistic baby image.',\n",
       "  'No, there is no easily seen baby picture on the bottle. The image shows illustrations of oats and an apricot.  The product is clearly marketed for babies with the \"Baby Moments\" branding and 0+ indication. However, it does not feature an image of a baby.\\n',\n",
       "  'The image shows a stack of muslin cloths. Some of the cloths have small, pastel-colored illustrations of animals and objects (like a lemon, birdhouse, fox) on them. These designs are relatively subtle and spread out on the fabric.  While these are intended for babies, they aren\\'t prominent baby pictures or faces. They\\'re more decorative patterns.\\n\\nThe product data confirms this.  The description highlights the practical use of the cloths (\"Dry Muslin Wash Cloth...for Baby Newborn/Infants/Toddlers\") rather than emphasizing any particular baby-centric imagery.\\n\\nTherefore, the answer is **no**, there isn\\'t a baby picture easily seen on the packaging or the cloths themselves. They have baby-themed *patterns*, but not clear pictures of babies.\\n',\n",
       "  'No, there is no baby picture easily visible on the packaging. The image shows the product itself (a mosquito repellent device) and highlights features like \"Bedtime Protection.\" While the product is likely safe for use around babies, it isn\\'t specifically marketed towards them with imagery. The row data also places it in the Baby Bath, Skin & Grooming category, which doesn\\'t necessarily imply baby imagery on the product itself.\\n',\n",
       "  'Yes, there is a clearly visible illustration of a baby sleeping on the front of the Himalaya Baby Lotion bottle. It\\'s located within the purple circle that contains the words \"Baby Lotion.\"',\n",
       "  'The toothbrush itself has a small stylized baby chick/bird design on it, which is somewhat visible in the image, but not prominent or easily seen from this image of the packaged toothbrush. It\\'s not a \"baby picture\" in the typical sense (a photo of a baby).',\n",
       "  \"No, there is no baby picture visible on the product packaging in the image.  The packaging shows the electric nail trimmer, the various grinding/filing heads, and the case.  The data also doesn't suggest the presence of a baby picture.\\n\",\n",
       "  'No, the product image shows a baby nail trimmer/filer kit.  There are no baby pictures visible on the device or packaging in this image.',\n",
       "  'Yes, the product packaging prominently features a cartoon image of a baby monkey. It\\'s placed centrally and is quite noticeable. This aligns with the product name \"Coco Soul Baby Massage Oil\" and its target audience.',\n",
       "  \"No, there is no baby picture visible on the product packaging in the image. The packaging shows the electric nail trimmer itself, various grinding heads, and some colored circles likely representing different filing pads.  The product data confirms it is for babies but doesn't mention any imagery on the packaging itself.\\n\",\n",
       "  \"Yes, the Little's Organix Gentle Baby Powder bottle prominently features a picture of a baby's face on the front label.  It's easily visible and a key part of the packaging design.\",\n",
       "  'No, there is no baby picture readily visible on the packaging in the image. The packaging features the Sebamed logo and product information.  The background is primarily white with pink and light blue accents.\\n'],\n",
       " [[11], [13], [15], [19], [22], [24], [25], [29], [31]],\n",
       " [0, 2, 4, 7, 10, 12, 13, 16, 18],\n",
       " [0, 2, 0, 2, 1, 2, 2, 0, 2, 2, 1, 2, 0, 1, 2, 2, 0, 2, 0, 2])"
      ]
     },
     "execution_count": 7,
     "metadata": {},
     "output_type": "execute_result"
    }
   ],
   "source": [
    "results_text, PK, indices, predicted_classes"
   ]
  },
  {
   "cell_type": "code",
   "execution_count": null,
   "id": "a2bb4783-a37c-49c0-8008-16342d48b792",
   "metadata": {},
   "outputs": [],
   "source": []
  }
 ],
 "metadata": {
  "kernelspec": {
   "display_name": "PyTorch",
   "language": "python",
   "name": "pytorch"
  },
  "language_info": {
   "codemirror_mode": {
    "name": "ipython",
    "version": 3
   },
   "file_extension": ".py",
   "mimetype": "text/x-python",
   "name": "python",
   "nbconvert_exporter": "python",
   "pygments_lexer": "ipython3",
   "version": "3.11.9"
  }
 },
 "nbformat": 4,
 "nbformat_minor": 5
}
