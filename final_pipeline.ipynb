{
 "cells": [
  {
   "cell_type": "code",
   "execution_count": 1,
   "metadata": {},
   "outputs": [
    {
     "name": "stderr",
     "output_type": "stream",
     "text": [
      "/home/nightstalker/miniconda3/envs/pytorch/lib/python3.11/site-packages/tqdm/auto.py:21: TqdmWarning: IProgress not found. Please update jupyter and ipywidgets. See https://ipywidgets.readthedocs.io/en/stable/user_install.html\n",
      "  from .autonotebook import tqdm as notebook_tqdm\n"
     ]
    }
   ],
   "source": [
    "import numpy as np\n",
    "from preprocessing.text import tokenize\n",
    "from models.llm import load_llm\n",
    "from models.classifier import load_classifier\n",
    "from tqdm import tqdm\n",
    "from preprocessing.image import preprocess_and_check_image"
   ]
  },
  {
   "cell_type": "code",
   "execution_count": 2,
   "metadata": {},
   "outputs": [],
   "source": [
    "from database.connect import conn"
   ]
  },
  {
   "cell_type": "code",
   "execution_count": 3,
   "metadata": {},
   "outputs": [],
   "source": [
    "llm = load_llm()\n",
    "trainer, tokenizer = load_classifier()"
   ]
  },
  {
   "cell_type": "code",
   "execution_count": 4,
   "metadata": {},
   "outputs": [],
   "source": [
    "cursor = conn.cursor()\n",
    "cursor.execute(\"SELECT * FROM Baby_Bath_Skin_and_Grooming\") \n",
    "rows = cursor.fetchall()"
   ]
  },
  {
   "cell_type": "code",
   "execution_count": 5,
   "metadata": {},
   "outputs": [
    {
     "data": {
      "text/plain": [
       "(['id',\n",
       "  'name',\n",
       "  'main_category',\n",
       "  'sub_category',\n",
       "  'image',\n",
       "  'ratings',\n",
       "  'no_of_ratings',\n",
       "  'discount_price',\n",
       "  'actual_price'],\n",
       " [0])"
      ]
     },
     "execution_count": 5,
     "metadata": {},
     "output_type": "execute_result"
    }
   ],
   "source": [
    "IMAGE_INDEX = 4\n",
    "PRIMARY_KEY = ['id']\n",
    "\n",
    "columns = [col[0] for col in cursor.description]\n",
    "pk_index = [i for i in range(len(columns)) if columns[i] in PRIMARY_KEY]\n",
    "\n",
    "columns, pk_index"
   ]
  },
  {
   "cell_type": "code",
   "execution_count": 6,
   "metadata": {},
   "outputs": [
    {
     "name": "stderr",
     "output_type": "stream",
     "text": [
      "  0%|                                                                                                                                                                                                                  | 0/10 [00:00<?, ?it/s]"
     ]
    },
    {
     "data": {
      "text/html": [],
      "text/plain": [
       "<IPython.core.display.HTML object>"
      ]
     },
     "metadata": {},
     "output_type": "display_data"
    },
    {
     "name": "stderr",
     "output_type": "stream",
     "text": [
      "\u001b[34m\u001b[1mwandb\u001b[0m: \u001b[33mWARNING\u001b[0m The `run_name` is currently set to the same value as `TrainingArguments.output_dir`. If this was not intended, please specify a different run name by setting the `TrainingArguments.run_name` parameter.\n",
      "Failed to detect the name of this notebook, you can set it manually with the WANDB_NOTEBOOK_NAME environment variable to enable code saving.\n",
      "\u001b[34m\u001b[1mwandb\u001b[0m: Using wandb-core as the SDK backend. Please refer to https://wandb.me/wandb-core for more information.\n",
      "\u001b[34m\u001b[1mwandb\u001b[0m: Currently logged in as: \u001b[33mmehdinejjar\u001b[0m (\u001b[33mmehdinejjar-al-akhawayn-university\u001b[0m). Use \u001b[1m`wandb login --relogin`\u001b[0m to force relogin\n"
     ]
    },
    {
     "data": {
      "text/html": [
       "Tracking run with wandb version 0.18.3"
      ],
      "text/plain": [
       "<IPython.core.display.HTML object>"
      ]
     },
     "metadata": {},
     "output_type": "display_data"
    },
    {
     "data": {
      "text/html": [
       "Run data is saved locally in <code>/home/nightstalker/Projects/ml/advanced_ai_data_filter/wandb/run-20241115_114605-y1t49tuq</code>"
      ],
      "text/plain": [
       "<IPython.core.display.HTML object>"
      ]
     },
     "metadata": {},
     "output_type": "display_data"
    },
    {
     "data": {
      "text/html": [
       "Syncing run <strong><a href='https://wandb.ai/mehdinejjar-al-akhawayn-university/huggingface/runs/y1t49tuq' target=\"_blank\">tmp_trainer</a></strong> to <a href='https://wandb.ai/mehdinejjar-al-akhawayn-university/huggingface' target=\"_blank\">Weights & Biases</a> (<a href='https://wandb.me/run' target=\"_blank\">docs</a>)<br/>"
      ],
      "text/plain": [
       "<IPython.core.display.HTML object>"
      ]
     },
     "metadata": {},
     "output_type": "display_data"
    },
    {
     "data": {
      "text/html": [
       " View project at <a href='https://wandb.ai/mehdinejjar-al-akhawayn-university/huggingface' target=\"_blank\">https://wandb.ai/mehdinejjar-al-akhawayn-university/huggingface</a>"
      ],
      "text/plain": [
       "<IPython.core.display.HTML object>"
      ]
     },
     "metadata": {},
     "output_type": "display_data"
    },
    {
     "data": {
      "text/html": [
       " View run at <a href='https://wandb.ai/mehdinejjar-al-akhawayn-university/huggingface/runs/y1t49tuq' target=\"_blank\">https://wandb.ai/mehdinejjar-al-akhawayn-university/huggingface/runs/y1t49tuq</a>"
      ],
      "text/plain": [
       "<IPython.core.display.HTML object>"
      ]
     },
     "metadata": {},
     "output_type": "display_data"
    },
    {
     "name": "stderr",
     "output_type": "stream",
     "text": [
      " 10%|████████████████████▏                                                                                                                                                                                     | 1/10 [00:04<00:43,  4.85s/it]"
     ]
    },
    {
     "data": {
      "text/html": [],
      "text/plain": [
       "<IPython.core.display.HTML object>"
      ]
     },
     "metadata": {},
     "output_type": "display_data"
    },
    {
     "name": "stderr",
     "output_type": "stream",
     "text": [
      " 20%|████████████████████████████████████████▍                                                                                                                                                                 | 2/10 [00:07<00:30,  3.76s/it]"
     ]
    },
    {
     "data": {
      "text/html": [],
      "text/plain": [
       "<IPython.core.display.HTML object>"
      ]
     },
     "metadata": {},
     "output_type": "display_data"
    },
    {
     "name": "stderr",
     "output_type": "stream",
     "text": [
      " 30%|████████████████████████████████████████████████████████████▌                                                                                                                                             | 3/10 [00:10<00:21,  3.12s/it]"
     ]
    },
    {
     "data": {
      "text/html": [],
      "text/plain": [
       "<IPython.core.display.HTML object>"
      ]
     },
     "metadata": {},
     "output_type": "display_data"
    },
    {
     "name": "stderr",
     "output_type": "stream",
     "text": [
      " 40%|████████████████████████████████████████████████████████████████████████████████▊                                                                                                                         | 4/10 [00:12<00:15,  2.65s/it]"
     ]
    },
    {
     "data": {
      "text/html": [],
      "text/plain": [
       "<IPython.core.display.HTML object>"
      ]
     },
     "metadata": {},
     "output_type": "display_data"
    },
    {
     "name": "stderr",
     "output_type": "stream",
     "text": [
      " 50%|█████████████████████████████████████████████████████████████████████████████████████████████████████                                                                                                     | 5/10 [00:15<00:14,  2.88s/it]"
     ]
    },
    {
     "data": {
      "text/html": [],
      "text/plain": [
       "<IPython.core.display.HTML object>"
      ]
     },
     "metadata": {},
     "output_type": "display_data"
    },
    {
     "name": "stderr",
     "output_type": "stream",
     "text": [
      " 60%|█████████████████████████████████████████████████████████████████████████████████████████████████████████████████████████▏                                                                                | 6/10 [00:17<00:10,  2.60s/it]"
     ]
    },
    {
     "data": {
      "text/html": [],
      "text/plain": [
       "<IPython.core.display.HTML object>"
      ]
     },
     "metadata": {},
     "output_type": "display_data"
    },
    {
     "name": "stderr",
     "output_type": "stream",
     "text": [
      " 70%|█████████████████████████████████████████████████████████████████████████████████████████████████████████████████████████████████████████████▍                                                            | 7/10 [00:20<00:07,  2.64s/it]"
     ]
    },
    {
     "data": {
      "text/html": [],
      "text/plain": [
       "<IPython.core.display.HTML object>"
      ]
     },
     "metadata": {},
     "output_type": "display_data"
    },
    {
     "name": "stderr",
     "output_type": "stream",
     "text": [
      " 80%|█████████████████████████████████████████████████████████████████████████████████████████████████████████████████████████████████████████████████████████████████▌                                        | 8/10 [00:25<00:07,  3.51s/it]"
     ]
    },
    {
     "data": {
      "text/html": [],
      "text/plain": [
       "<IPython.core.display.HTML object>"
      ]
     },
     "metadata": {},
     "output_type": "display_data"
    },
    {
     "name": "stderr",
     "output_type": "stream",
     "text": [
      " 90%|█████████████████████████████████████████████████████████████████████████████████████████████████████████████████████████████████████████████████████████████████████████████████████▊                    | 9/10 [00:28<00:03,  3.21s/it]"
     ]
    },
    {
     "data": {
      "text/html": [],
      "text/plain": [
       "<IPython.core.display.HTML object>"
      ]
     },
     "metadata": {},
     "output_type": "display_data"
    },
    {
     "name": "stderr",
     "output_type": "stream",
     "text": [
      "100%|█████████████████████████████████████████████████████████████████████████████████████████████████████████████████████████████████████████████████████████████████████████████████████████████████████████| 10/10 [00:30<00:00,  3.02s/it]\n"
     ]
    }
   ],
   "source": [
    "results_text = []\n",
    "PK = []\n",
    "indices = []\n",
    "\n",
    "for i in tqdm(range(len(rows[:10]))):    \n",
    "    image = preprocess_and_check_image(rows[i][IMAGE_INDEX])\n",
    "    if image:\n",
    "        prompt = \"Analyze the picture, and the row data.\\nDoes it have a baby picture on it that is seen easily in the package?\"\n",
    "        text_data = \" | \".join([f\"{columns[j]}: {rows[i][j]}\" for j in range(len(columns)) if j != IMAGE_INDEX])\n",
    "        result = llm.generate_content(\n",
    "            [image, \"\\n\\n\", f\"Row data: {text_data}\\n\\n\", prompt]\n",
    "        )\n",
    "        results_text.append(result.text)\n",
    "        dataset_subset = tokenize(result.text, tokenizer)\n",
    "        predictions = trainer.predict(dataset_subset)\n",
    "\n",
    "        predicted_class = np.argmax(predictions.predictions, axis=1)[0]\n",
    "        \n",
    "        if predicted_class <= 2:\n",
    "            indices.append(i)\n",
    "            PK.append([rows[i][j] for j in pk_index])"
   ]
  },
  {
   "cell_type": "code",
   "execution_count": 7,
   "metadata": {},
   "outputs": [
    {
     "data": {
      "text/plain": [
       "([\"Yes, there is a clear picture of a baby on the LuvLap Liquid Cleanser bottle, prominently displayed on the front label.  The baby is shown playing with a toy, likely to reinforce the product's association with baby items.\\n\",\n",
       "  'No, the product does not feature a picture of a real baby. It has cartoon illustrations of sea creatures like a narwhal, shark, octopus, fish, and turtle.  The cushion insert does have a simple narwhal design on it, but this is also a cartoon and not a photo.\\n',\n",
       "  \"Yes, the packaging clearly features a simple illustration of a baby's head. It's located near the top of the box and on the bottle, making it easily visible.\",\n",
       "  'No, there is no baby picture on the packaging.  There is a picture of lotus and meadowsweet flowers.',\n",
       "  \"No, there isn't a clear, easily seen picture of a baby on the Cetaphil Baby Mild Bar packaging. There's a stylized, almost abstract, illustration of a baby being bathed/washed, but no actual photographic image of a baby.  The illustration is light blue and blends in a bit with the background. While it evokes the idea of baby care, it's not a prominent or immediately obvious baby image.\\n\",\n",
       "  \"No, there is no baby picture readily visible on the packaging in the image. The packaging features the Johnson's logo and product information.\",\n",
       "  \"No, there is no readily visible picture of a baby on the packaging.  The packaging features the Chicco logo, product name, ingredients (almond and olive oil), and skin benefits. There's a stylized heart shape but no actual baby image.\\n\",\n",
       "  \"Yes, there is a picture of a baby's face clearly visible on the front of the product packaging.  The baby is wrapped in a blanket.\\n\",\n",
       "  'Yes, the product packaging features silhouettes of an adult and child to highlight its family-friendly nature, although it\\'s not a traditional \"baby picture\".  It uses these figures to represent its 4-dot protection feature, implying it is suitable for both adults and children.\\n',\n",
       "  'No, there is no baby picture on the packaging.  There are images of oats and apricot, and the \"Baby Moments\" logo has a stylized heart shape.'],\n",
       " [[11], [12], [13], [14], [15], [16], [18], [19], [20], [21]],\n",
       " [0, 1, 2, 3, 4, 5, 6, 7, 8, 9])"
      ]
     },
     "execution_count": 7,
     "metadata": {},
     "output_type": "execute_result"
    }
   ],
   "source": [
    "results_text, PK, indices"
   ]
  },
  {
   "cell_type": "code",
   "execution_count": 8,
   "metadata": {},
   "outputs": [],
   "source": [
    "rows_filtered = [rows[i] for i in indices]"
   ]
  },
  {
   "cell_type": "code",
   "execution_count": 9,
   "metadata": {},
   "outputs": [
    {
     "data": {
      "text/plain": [
       "[(11,\n",
       "  'Luv Lap Liquid Cleanser, Anti-Bacterial, Food Grade, For Baby Bottles, Accessories and Vegetables, 1.5ltr',\n",
       "  'toys & baby products',\n",
       "  'Baby Bath, Skin & Grooming',\n",
       "  'https://m.media-amazon.com/images/I/71p5fCtiCnL._AC_UL320_.jpg',\n",
       "  Decimal('4.40'),\n",
       "  '5,883',\n",
       "  '₹509',\n",
       "  '₹669'),\n",
       " (12,\n",
       "  'Luv Lap LuvLap Aqua Tales Baby Bather for Baby 0-12 Months, New Born Baby Bath Chair, 3 Position Adjustable, Washable Soft...',\n",
       "  'toys & baby products',\n",
       "  'Baby Bath, Skin & Grooming',\n",
       "  'https://m.media-amazon.com/images/I/91JNkTWv4TL._AC_UL320_.jpg',\n",
       "  Decimal('4.10'),\n",
       "  '3,200',\n",
       "  '₹899',\n",
       "  '₹1,599'),\n",
       " (13,\n",
       "  'The Moms Co. Natural Baby Massage Oil with 10 Oils - Sesame Oil, Avocado, Organic Almond, Organic Jojoba, Organic Chamomil...',\n",
       "  'toys & baby products',\n",
       "  'Baby Bath, Skin & Grooming',\n",
       "  'https://m.media-amazon.com/images/I/71EQE76D+hL._AC_UL320_.jpg',\n",
       "  Decimal('4.40'),\n",
       "  '2,265',\n",
       "  '₹331',\n",
       "  '₹474'),\n",
       " (14,\n",
       "  'Chicco Baby Moments Mild Body Wash Refresh, New Advanced Formula With Natural Ingredients, No Tears & Soap-Free, Mild Form...',\n",
       "  'toys & baby products',\n",
       "  'Baby Bath, Skin & Grooming',\n",
       "  'https://m.media-amazon.com/images/I/61wYdjU9N6L._AC_UL320_.jpg',\n",
       "  Decimal('4.50'),\n",
       "  '117',\n",
       "  '₹359',\n",
       "  '₹479'),\n",
       " (15,\n",
       "  'Cetaphil Baby Mild Bar 75gm, Kids Soap for Bath, White, Medium',\n",
       "  'toys & baby products',\n",
       "  'Baby Bath, Skin & Grooming',\n",
       "  'https://m.media-amazon.com/images/I/61LHzpekqBL._AC_UL320_.jpg',\n",
       "  Decimal('4.50'),\n",
       "  '2,544',\n",
       "  '₹210',\n",
       "  '₹218'),\n",
       " (16,\n",
       "  \"Johnson's Baby Hair Oil 200ml (Pack of 2)\",\n",
       "  'toys & baby products',\n",
       "  'Baby Bath, Skin & Grooming',\n",
       "  'https://m.media-amazon.com/images/I/81hkkvfo1kL._AC_UL320_.jpg',\n",
       "  Decimal('4.40'),\n",
       "  '4,444',\n",
       "  '₹298',\n",
       "  '₹320'),\n",
       " (18,\n",
       "  'Chicco Baby Moments Soap, New Advanced Formula with Natural Ingredients, Suitable for Baby’s Gentle Skin, Moisturizing & H...',\n",
       "  'toys & baby products',\n",
       "  'Baby Bath, Skin & Grooming',\n",
       "  'https://m.media-amazon.com/images/I/71K4JGLmeHL._AC_UL320_.jpg',\n",
       "  Decimal('4.20'),\n",
       "  '4,529',\n",
       "  '₹257',\n",
       "  '₹285'),\n",
       " (19,\n",
       "  'BeeBaby Classic Powder Puff with Container for Baby (Blue) | Soft Touch. 100% BPA Free.',\n",
       "  'toys & baby products',\n",
       "  'Baby Bath, Skin & Grooming',\n",
       "  'https://m.media-amazon.com/images/I/61+T2A8EfWL._AC_UL320_.jpg',\n",
       "  Decimal('4.10'),\n",
       "  '1,864',\n",
       "  '₹121',\n",
       "  '₹170'),\n",
       " (20,\n",
       "  'Good knight 100% Natural Mosquito Repellent Fabric Roll-On | Paediatrician Certified | 8-Hour Protect | Citrus - 8 ml',\n",
       "  'toys & baby products',\n",
       "  'Baby Bath, Skin & Grooming',\n",
       "  'https://m.media-amazon.com/images/I/61OUdCB+MOL._AC_UL320_.jpg',\n",
       "  Decimal('4.20'),\n",
       "  '952',\n",
       "  '₹72',\n",
       "  '₹75'),\n",
       " (21,\n",
       "  'Chicco Baby Moments Gentle Body Wash and Shampoo for Tear-Free Bath time, Suitable for Baby’s Gentle Skin and Soft Hair, N...',\n",
       "  'toys & baby products',\n",
       "  'Baby Bath, Skin & Grooming',\n",
       "  'https://m.media-amazon.com/images/I/61S01Q3ZnPL._AC_UL320_.jpg',\n",
       "  Decimal('4.40'),\n",
       "  '6,743',\n",
       "  '₹220',\n",
       "  '₹259')]"
      ]
     },
     "execution_count": 9,
     "metadata": {},
     "output_type": "execute_result"
    }
   ],
   "source": [
    "rows_filtered"
   ]
  },
  {
   "cell_type": "code",
   "execution_count": 10,
   "metadata": {},
   "outputs": [
    {
     "data": {
      "text/plain": [
       "[[11], [12], [13], [14], [15], [16], [18], [19], [20], [21]]"
      ]
     },
     "execution_count": 10,
     "metadata": {},
     "output_type": "execute_result"
    }
   ],
   "source": [
    "PK"
   ]
  }
 ],
 "metadata": {
  "kernelspec": {
   "display_name": "PyTorch",
   "language": "python",
   "name": "pytorch"
  },
  "language_info": {
   "codemirror_mode": {
    "name": "ipython",
    "version": 3
   },
   "file_extension": ".py",
   "mimetype": "text/x-python",
   "name": "python",
   "nbconvert_exporter": "python",
   "pygments_lexer": "ipython3",
   "version": "3.11.9"
  }
 },
 "nbformat": 4,
 "nbformat_minor": 4
}
