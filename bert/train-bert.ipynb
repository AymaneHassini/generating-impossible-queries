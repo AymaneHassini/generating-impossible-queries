{
 "cells": [
  {
   "cell_type": "code",
   "execution_count": 1,
   "metadata": {},
   "outputs": [
    {
     "name": "stderr",
     "output_type": "stream",
     "text": [
      "/home/nightstalker/miniconda3/envs/pytorch/lib/python3.11/site-packages/tqdm/auto.py:21: TqdmWarning: IProgress not found. Please update jupyter and ipywidgets. See https://ipywidgets.readthedocs.io/en/stable/user_install.html\n",
      "  from .autonotebook import tqdm as notebook_tqdm\n",
      "\u001b[34m\u001b[1mwandb\u001b[0m: Using wandb-core as the SDK backend. Please refer to https://wandb.me/wandb-core for more information.\n",
      "\u001b[34m\u001b[1mwandb\u001b[0m: Currently logged in as: \u001b[33mmehdinejjar\u001b[0m (\u001b[33mmehdinejjar-al-akhawayn-university\u001b[0m). Use \u001b[1m`wandb login --relogin`\u001b[0m to force relogin\n"
     ]
    },
    {
     "data": {
      "text/html": [
       "Tracking run with wandb version 0.18.3"
      ],
      "text/plain": [
       "<IPython.core.display.HTML object>"
      ]
     },
     "metadata": {},
     "output_type": "display_data"
    },
    {
     "data": {
      "text/html": [
       "Run data is saved locally in <code>/home/nightstalker/Projects/ml/generating-impossible-query/bert/wandb/run-20250404_015400-p8a6bfrb</code>"
      ],
      "text/plain": [
       "<IPython.core.display.HTML object>"
      ]
     },
     "metadata": {},
     "output_type": "display_data"
    },
    {
     "data": {
      "text/html": [
       "Syncing run <strong><a href='https://wandb.ai/mehdinejjar-al-akhawayn-university/impossible-querry-pipeline/runs/p8a6bfrb' target=\"_blank\">gemini-bert</a></strong> to <a href='https://wandb.ai/mehdinejjar-al-akhawayn-university/impossible-querry-pipeline' target=\"_blank\">Weights & Biases</a> (<a href='https://wandb.me/run' target=\"_blank\">docs</a>)<br/>"
      ],
      "text/plain": [
       "<IPython.core.display.HTML object>"
      ]
     },
     "metadata": {},
     "output_type": "display_data"
    },
    {
     "data": {
      "text/html": [
       " View project at <a href='https://wandb.ai/mehdinejjar-al-akhawayn-university/impossible-querry-pipeline' target=\"_blank\">https://wandb.ai/mehdinejjar-al-akhawayn-university/impossible-querry-pipeline</a>"
      ],
      "text/plain": [
       "<IPython.core.display.HTML object>"
      ]
     },
     "metadata": {},
     "output_type": "display_data"
    },
    {
     "data": {
      "text/html": [
       " View run at <a href='https://wandb.ai/mehdinejjar-al-akhawayn-university/impossible-querry-pipeline/runs/p8a6bfrb' target=\"_blank\">https://wandb.ai/mehdinejjar-al-akhawayn-university/impossible-querry-pipeline/runs/p8a6bfrb</a>"
      ],
      "text/plain": [
       "<IPython.core.display.HTML object>"
      ]
     },
     "metadata": {},
     "output_type": "display_data"
    },
    {
     "data": {
      "text/plain": [
       "'cuda'"
      ]
     },
     "execution_count": 1,
     "metadata": {},
     "output_type": "execute_result"
    }
   ],
   "source": [
    "import torch\n",
    "import pandas as pd\n",
    "from transformers import BertForSequenceClassification, BertTokenizerFast, Trainer, TrainingArguments\n",
    "from torch.utils.data import Dataset\n",
    "from sklearn.model_selection import train_test_split\n",
    "from sklearn.metrics import accuracy_score, precision_recall_fscore_support\n",
    "import os\n",
    "import wandb\n",
    "\n",
    "wandb.init(\n",
    "    project=\"impossible-querry-pipeline\",\n",
    "    name=\"gemini-bert\"\n",
    ")\n",
    "\n",
    "device = 'cuda' if torch.cuda.is_available() else 'cpu'\n",
    "device"
   ]
  },
  {
   "cell_type": "code",
   "execution_count": 2,
   "metadata": {},
   "outputs": [
    {
     "name": "stderr",
     "output_type": "stream",
     "text": [
      "/home/nightstalker/miniconda3/envs/pytorch/lib/python3.11/site-packages/transformers/tokenization_utils_base.py:1617: FutureWarning: `clean_up_tokenization_spaces` was not set. It will be set to `True` by default. This behavior will be deprecated in transformers v4.45, and will be then set to `False` by default. For more details check this issue: https://github.com/huggingface/transformers/issues/31884\n",
      "  warnings.warn(\n"
     ]
    }
   ],
   "source": [
    "checkpoint = \"bert-base-cased\"\n",
    "\n",
    "data_path = \"../dataset/dataset-match-score.csv\"\n",
    "df = pd.read_csv(data_path)\n",
    "df['text'] = df['text'].apply(lambda x: x.replace('\\n', ' ').replace('*', ''))\n",
    "\n",
    "\n",
    "def compute_metrics(pred):\n",
    "    \"\"\"\n",
    "    Computes accuracy, F1, precision, and recall for a given set of predictions.\n",
    "\n",
    "    Args:\n",
    "        pred (obj): An object containing label_ids and predictions attributes.\n",
    "            - label_ids (array-like): A 1D array of true class labels.\n",
    "            - predictions (array-like): A 2D array where each row represents\n",
    "              an observation, and each column represents the probability of\n",
    "              that observation belonging to a certain class.\n",
    "\n",
    "    Returns:\n",
    "        dict: A dictionary containing the following metrics:\n",
    "            - Accuracy (float): The proportion of correctly classified instances.\n",
    "            - F1 (float): The macro F1 score, which is the harmonic mean of precision\n",
    "              and recall. Macro averaging calculates the metric independently for\n",
    "              each class and then takes the average.\n",
    "            - Precision (float): The macro precision, which is the number of true\n",
    "              positives divided by the sum of true positives and false positives.\n",
    "            - Recall (float): The macro recall, which is the number of true positives\n",
    "              divided by the sum of true positives and false negatives.\n",
    "    \"\"\"\n",
    "    labels = pred.label_ids\n",
    "\n",
    "    preds = pred.predictions.argmax(-1)\n",
    "\n",
    "    precision, recall, f1, _ = precision_recall_fscore_support(labels, preds, average='macro')\n",
    "\n",
    "    acc = accuracy_score(labels, preds)\n",
    "\n",
    "    return {\n",
    "        'Accuracy': acc,\n",
    "        'F1': f1,\n",
    "        'Precision': precision,\n",
    "        'Recall': recall\n",
    "    }\n",
    "\n",
    "labels = df['labels'].unique().tolist()\n",
    "labels.sort()\n",
    "id2label = {i: label for i, label in enumerate(labels)}\n",
    "label2id = {label: i for i, label in enumerate(labels)}\n",
    "\n",
    "\n",
    "train_texts, val_texts, train_labels, val_labels = train_test_split(\n",
    "    df['text'], df['labels'], test_size=0.2\n",
    ")\n",
    "\n",
    "tokenizer = BertTokenizerFast.from_pretrained(checkpoint, max_length=512)\n",
    "train_encodings = tokenizer(list(train_texts), truncation=True, padding=True, return_tensors=\"pt\")\n",
    "val_encodings = tokenizer(list(val_texts), truncation=True, padding=True, return_tensors=\"pt\")"
   ]
  },
  {
   "cell_type": "code",
   "execution_count": 3,
   "metadata": {},
   "outputs": [],
   "source": [
    "class CustomDataset(Dataset):\n",
    "    \"\"\"\n",
    "    Custom Dataset class for handling tokenized text data and corresponding labels.\n",
    "    Inherits from torch.utils.data.Dataset.\n",
    "    \"\"\"\n",
    "    def __init__(self, encodings, labels):\n",
    "        \"\"\"\n",
    "        Initializes the DataLoader class with encodings and labels.\n",
    "\n",
    "        Args:\n",
    "            encodings (dict): A dictionary containing tokenized input text data\n",
    "                              (e.g., 'input_ids', 'token_type_ids', 'attention_mask').\n",
    "            labels (list): A list of integer labels for the input text data.\n",
    "        \"\"\"\n",
    "        self.encodings = encodings\n",
    "        self.labels = labels\n",
    "\n",
    "    def __getitem__(self, idx):\n",
    "        \"\"\"\n",
    "        Returns a dictionary containing tokenized data and the corresponding label for a given index.\n",
    "\n",
    "        Args:\n",
    "            idx (int): The index of the data item to retrieve.\n",
    "\n",
    "        Returns:\n",
    "            item (dict): A dictionary containing the tokenized data and the corresponding label.\n",
    "        \"\"\"\n",
    "        item = {key: torch.tensor(val[idx]).clone().detach() for key, val in self.encodings.items()}\n",
    "        item['labels'] = torch.tensor(self.labels.iloc[idx]).clone().detach()\n",
    "        return item\n",
    "\n",
    "    def __len__(self):\n",
    "        \"\"\"\n",
    "        Returns the number of data items in the dataset.\n",
    "\n",
    "        Returns:\n",
    "            (int): The number of data items in the dataset.\n",
    "        \"\"\"\n",
    "        return len(self.labels)"
   ]
  },
  {
   "cell_type": "code",
   "execution_count": 4,
   "metadata": {},
   "outputs": [
    {
     "name": "stderr",
     "output_type": "stream",
     "text": [
      "Some weights of BertForSequenceClassification were not initialized from the model checkpoint at bert-base-cased and are newly initialized: ['classifier.bias', 'classifier.weight']\n",
      "You should probably TRAIN this model on a down-stream task to be able to use it for predictions and inference.\n",
      "  0%|          | 0/120 [00:00<?, ?it/s]/tmp/ipykernel_25070/3767623051.py:28: UserWarning: To copy construct from a tensor, it is recommended to use sourceTensor.clone().detach() or sourceTensor.clone().detach().requires_grad_(True), rather than torch.tensor(sourceTensor).\n",
      "  item = {key: torch.tensor(val[idx]).clone().detach() for key, val in self.encodings.items()}\n",
      " 42%|████▏     | 50/120 [00:34<00:47,  1.46it/s]"
     ]
    },
    {
     "name": "stdout",
     "output_type": "stream",
     "text": [
      "{'loss': 0.3714, 'grad_norm': 0.1995501071214676, 'learning_rate': 2.916666666666667e-05, 'epoch': 12.5}\n"
     ]
    },
    {
     "name": "stderr",
     "output_type": "stream",
     "text": [
      "                                                \n",
      " 42%|████▏     | 50/120 [00:34<00:47,  1.46it/s]/tmp/ipykernel_25070/3767623051.py:28: UserWarning: To copy construct from a tensor, it is recommended to use sourceTensor.clone().detach() or sourceTensor.clone().detach().requires_grad_(True), rather than torch.tensor(sourceTensor).\n",
      "  item = {key: torch.tensor(val[idx]).clone().detach() for key, val in self.encodings.items()}\n"
     ]
    },
    {
     "name": "stdout",
     "output_type": "stream",
     "text": [
      "{'eval_loss': 0.109756700694561, 'eval_Accuracy': 0.984, 'eval_F1': 0.984650270364556, 'eval_Precision': 0.9866666666666667, 'eval_Recall': 0.9833333333333334, 'eval_runtime': 0.2207, 'eval_samples_per_second': 566.35, 'eval_steps_per_second': 4.531, 'epoch': 12.5}\n"
     ]
    },
    {
     "name": "stderr",
     "output_type": "stream",
     "text": [
      " 83%|████████▎ | 100/120 [01:08<00:13,  1.50it/s]"
     ]
    },
    {
     "name": "stdout",
     "output_type": "stream",
     "text": [
      "{'loss': 0.0074, 'grad_norm': 0.049501340836286545, 'learning_rate': 8.333333333333334e-06, 'epoch': 25.0}\n"
     ]
    },
    {
     "name": "stderr",
     "output_type": "stream",
     "text": [
      "                                                 \n",
      " 83%|████████▎ | 100/120 [01:08<00:13,  1.50it/s]/tmp/ipykernel_25070/3767623051.py:28: UserWarning: To copy construct from a tensor, it is recommended to use sourceTensor.clone().detach() or sourceTensor.clone().detach().requires_grad_(True), rather than torch.tensor(sourceTensor).\n",
      "  item = {key: torch.tensor(val[idx]).clone().detach() for key, val in self.encodings.items()}\n"
     ]
    },
    {
     "name": "stdout",
     "output_type": "stream",
     "text": [
      "{'eval_loss': 0.1372523158788681, 'eval_Accuracy': 0.968, 'eval_F1': 0.9691228070175438, 'eval_Precision': 0.9743589743589745, 'eval_Recall': 0.9666666666666667, 'eval_runtime': 0.215, 'eval_samples_per_second': 581.365, 'eval_steps_per_second': 4.651, 'epoch': 25.0}\n"
     ]
    },
    {
     "name": "stderr",
     "output_type": "stream",
     "text": [
      "100%|██████████| 120/120 [01:23<00:00,  1.43it/s]\n"
     ]
    },
    {
     "name": "stdout",
     "output_type": "stream",
     "text": [
      "{'train_runtime': 83.9069, 'train_samples_per_second': 177.339, 'train_steps_per_second': 1.43, 'train_loss': 0.15829989286139606, 'epoch': 30.0}\n"
     ]
    }
   ],
   "source": [
    "train_dataset = CustomDataset(train_encodings, train_labels)\n",
    "val_dataset = CustomDataset(val_encodings, val_labels)\n",
    "\n",
    "num_labels = len(label2id)\n",
    "model = BertForSequenceClassification.from_pretrained(\n",
    "    checkpoint,\n",
    "    num_labels=num_labels,\n",
    "    id2label=id2label,\n",
    "    label2id=label2id\n",
    ").to(device)\n",
    "\n",
    "training_args = TrainingArguments(\n",
    "      \"train-checkpoints\", \n",
    "      num_train_epochs=5, \n",
    "      eval_strategy=\"steps\", \n",
    "      weight_decay=5e-4, \n",
    "      per_device_train_batch_size=128,\n",
    "      per_device_eval_batch_size=128,\n",
    "      save_strategy=\"steps\",\n",
    "      logging_steps=50,\n",
    "      load_best_model_at_end=True,\n",
    "      run_name=\"generating-impossible-query\",\n",
    "    #   report_to=\"wandb\",\n",
    ")\n",
    "\n",
    "trainer = Trainer(\n",
    "    # the pre-trained model that will be fine-tuned\n",
    "    model=model,\n",
    "     # training arguments that we defined above\n",
    "    args=training_args,\n",
    "    train_dataset=train_dataset,\n",
    "    eval_dataset=val_dataset,\n",
    "    compute_metrics= compute_metrics\n",
    ")\n",
    "\n",
    "trainer.train()\n",
    "\n",
    "tokenizer.save_pretrained(\"train-checkpoints/best-model\")\n",
    "trainer.save_model(\"train-checkpoints/best-model\")"
   ]
  },
  {
   "cell_type": "code",
   "execution_count": 5,
   "metadata": {},
   "outputs": [
    {
     "name": "stderr",
     "output_type": "stream",
     "text": [
      "/tmp/ipykernel_25070/3767623051.py:28: UserWarning: To copy construct from a tensor, it is recommended to use sourceTensor.clone().detach() or sourceTensor.clone().detach().requires_grad_(True), rather than torch.tensor(sourceTensor).\n",
      "  item = {key: torch.tensor(val[idx]).clone().detach() for key, val in self.encodings.items()}\n",
      "100%|██████████| 1/1 [00:00<00:00, 450.61it/s]"
     ]
    },
    {
     "name": "stdout",
     "output_type": "stream",
     "text": [
      "              precision    recall  f1-score   support\n",
      "\n",
      "           0     0.9600    1.0000    0.9796        48\n",
      "           1     1.0000    0.9500    0.9744        40\n",
      "           2     1.0000    1.0000    1.0000        37\n",
      "\n",
      "    accuracy                         0.9840       125\n",
      "   macro avg     0.9867    0.9833    0.9847       125\n",
      "weighted avg     0.9846    0.9840    0.9840       125\n",
      "\n"
     ]
    },
    {
     "name": "stderr",
     "output_type": "stream",
     "text": [
      "\n"
     ]
    }
   ],
   "source": [
    "from sklearn.metrics import classification_report\n",
    "import numpy as np\n",
    "\n",
    "# Make prediction on evaluation dataset\n",
    "y_pred = trainer.predict(val_dataset).predictions\n",
    "y_pred = np.argmax(y_pred, axis=-1)\n",
    "\n",
    "# Get the true labels\n",
    "y_true = val_dataset.labels\n",
    "y_true = np.array(y_true)\n",
    "\n",
    "# Print the classification report\n",
    "print(classification_report(y_true, y_pred, digits=4))"
   ]
  },
  {
   "cell_type": "code",
   "execution_count": null,
   "metadata": {},
   "outputs": [],
   "source": []
  }
 ],
 "metadata": {
  "kernelspec": {
   "display_name": "pytorch",
   "language": "python",
   "name": "python3"
  },
  "language_info": {
   "codemirror_mode": {
    "name": "ipython",
    "version": 3
   },
   "file_extension": ".py",
   "mimetype": "text/x-python",
   "name": "python",
   "nbconvert_exporter": "python",
   "pygments_lexer": "ipython3",
   "version": "3.11.9"
  }
 },
 "nbformat": 4,
 "nbformat_minor": 2
}
