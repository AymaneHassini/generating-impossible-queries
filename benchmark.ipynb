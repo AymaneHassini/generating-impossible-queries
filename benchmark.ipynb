{
 "cells": [
  {
   "cell_type": "code",
   "execution_count": 1,
   "metadata": {},
   "outputs": [],
   "source": [
    "import numpy as np\n",
    "from database.connect import conn"
   ]
  },
  {
   "cell_type": "markdown",
   "metadata": {},
   "source": [
    "# Real Baby Example"
   ]
  },
  {
   "cell_type": "code",
   "execution_count": 2,
   "metadata": {},
   "outputs": [],
   "source": [
    "## Real Baby Example\n",
    "rb_classes = np.load('predictions_realbb.npy')"
   ]
  },
  {
   "cell_type": "code",
   "execution_count": 3,
   "metadata": {},
   "outputs": [],
   "source": [
    "cursor = conn.cursor()\n",
    "cursor.execute(\"SELECT * FROM Baby_Bath_Skin_and_Grooming;\") \n",
    "rows = cursor.fetchall()\n",
    "columns = [col[0] for col in cursor.description]"
   ]
  },
  {
   "cell_type": "code",
   "execution_count": 4,
   "metadata": {},
   "outputs": [],
   "source": [
    "label = 0\n",
    "indexes_accept_rb = [i for i in range(len(rb_classes)) if rb_classes[i] == label]\n",
    "y_pred_rb = [1 if i in indexes_accept_rb else 0 for i in range(len(rows))]\n",
    "indexes_accept_rb.pop(9)\n",
    "y_true_rb = np.load('ground_truth/label_real_baby.npy')"
   ]
  },
  {
   "cell_type": "markdown",
   "metadata": {},
   "source": [
    "\n",
    "## Blue Dispenser Pump"
   ]
  },
  {
   "cell_type": "code",
   "execution_count": 5,
   "metadata": {},
   "outputs": [],
   "source": [
    "blue = np.load('predictions_blue.npy')\n",
    "y_true_blue = np.load('ground_truth/label_blue_dispenser_head.npy')"
   ]
  },
  {
   "cell_type": "code",
   "execution_count": 6,
   "metadata": {},
   "outputs": [
    {
     "data": {
      "text/plain": [
       "(array([0, 1, 2]), array([  5,  34, 263]))"
      ]
     },
     "execution_count": 6,
     "metadata": {},
     "output_type": "execute_result"
    }
   ],
   "source": [
    "np.unique(blue, return_counts=True)"
   ]
  },
  {
   "cell_type": "code",
   "execution_count": 7,
   "metadata": {},
   "outputs": [],
   "source": [
    "label = 0\n",
    "indexes_accept_blue = [i for i in range(len(blue)) if blue[i] == label]\n",
    "y_pred_blue = [1 if i in indexes_accept_blue else 0 for i in range(len(rows))]"
   ]
  },
  {
   "cell_type": "markdown",
   "metadata": {},
   "source": [
    "## Dispenser Pump"
   ]
  },
  {
   "cell_type": "code",
   "execution_count": 8,
   "metadata": {},
   "outputs": [],
   "source": [
    "dh_classes = np.load('predictions_dh.npy')\n",
    "y_true_dh = np.load('ground_truth/label_dispenser_pump.npy')"
   ]
  },
  {
   "cell_type": "code",
   "execution_count": 9,
   "metadata": {},
   "outputs": [],
   "source": [
    "label = 0\n",
    "indexes_accept_dh = [i for i in range(len(dh_classes)) if dh_classes[i] == label]\n",
    "y_pred_dh = [1 if i in indexes_accept_dh else 0 for i in range(len(rows))]"
   ]
  },
  {
   "cell_type": "markdown",
   "metadata": {},
   "source": [
    "## Impossible Query Benchmark"
   ]
  },
  {
   "cell_type": "code",
   "execution_count": 10,
   "metadata": {},
   "outputs": [
    {
     "name": "stdout",
     "output_type": "stream",
     "text": [
      "0.9966887417218543\n",
      "[[268   1]\n",
      " [  0  33]]\n",
      "              precision    recall  f1-score   support\n",
      "\n",
      "           0       1.00      1.00      1.00       269\n",
      "           1       0.97      1.00      0.99        33\n",
      "\n",
      "    accuracy                           1.00       302\n",
      "   macro avg       0.99      1.00      0.99       302\n",
      "weighted avg       1.00      1.00      1.00       302\n",
      "\n"
     ]
    }
   ],
   "source": [
    "from sklearn.metrics import accuracy_score\n",
    "from sklearn.metrics import confusion_matrix\n",
    "from sklearn.metrics import classification_report\n",
    "\n",
    "accuracy = accuracy_score(y_true_rb, y_pred_rb)\n",
    "print(accuracy)\n",
    "\n",
    "confusion = confusion_matrix(y_true_rb, y_pred_rb)\n",
    "print(confusion)\n",
    "\n",
    "report = classification_report(y_true_rb, y_pred_rb)\n",
    "print(report)"
   ]
  },
  {
   "cell_type": "code",
   "execution_count": 11,
   "metadata": {},
   "outputs": [
    {
     "name": "stdout",
     "output_type": "stream",
     "text": [
      "1.0\n",
      "[[297   0]\n",
      " [  0   5]]\n",
      "              precision    recall  f1-score   support\n",
      "\n",
      "           0       1.00      1.00      1.00       297\n",
      "           1       1.00      1.00      1.00         5\n",
      "\n",
      "    accuracy                           1.00       302\n",
      "   macro avg       1.00      1.00      1.00       302\n",
      "weighted avg       1.00      1.00      1.00       302\n",
      "\n"
     ]
    }
   ],
   "source": [
    "from sklearn.metrics import accuracy_score\n",
    "from sklearn.metrics import confusion_matrix\n",
    "from sklearn.metrics import classification_report\n",
    "\n",
    "accuracy = accuracy_score(y_true_blue, y_pred_blue)\n",
    "print(accuracy)\n",
    "\n",
    "confusion = confusion_matrix(y_true_blue, y_pred_blue)\n",
    "print(confusion)\n",
    "\n",
    "report = classification_report(y_true_blue, y_pred_blue)\n",
    "print(report)"
   ]
  },
  {
   "cell_type": "code",
   "execution_count": 12,
   "metadata": {},
   "outputs": [
    {
     "name": "stdout",
     "output_type": "stream",
     "text": [
      "1.0\n",
      "[[290   0]\n",
      " [  0  12]]\n",
      "              precision    recall  f1-score   support\n",
      "\n",
      "           0       1.00      1.00      1.00       290\n",
      "           1       1.00      1.00      1.00        12\n",
      "\n",
      "    accuracy                           1.00       302\n",
      "   macro avg       1.00      1.00      1.00       302\n",
      "weighted avg       1.00      1.00      1.00       302\n",
      "\n"
     ]
    }
   ],
   "source": [
    "from sklearn.metrics import accuracy_score\n",
    "from sklearn.metrics import confusion_matrix\n",
    "from sklearn.metrics import classification_report\n",
    "\n",
    "accuracy = accuracy_score(y_true_dh, y_pred_dh)\n",
    "print(accuracy)\n",
    "\n",
    "confusion = confusion_matrix(y_true_dh, y_pred_dh)\n",
    "print(confusion)\n",
    "\n",
    "report = classification_report(y_true_dh, y_pred_dh)\n",
    "print(report)"
   ]
  },
  {
   "cell_type": "markdown",
   "metadata": {},
   "source": [
    "## CLIP Bechmark"
   ]
  },
  {
   "cell_type": "code",
   "execution_count": 13,
   "metadata": {},
   "outputs": [
    {
     "name": "stderr",
     "output_type": "stream",
     "text": [
      "/home/nightstalker/miniconda3/envs/pytorch/lib/python3.11/site-packages/tqdm/auto.py:21: TqdmWarning: IProgress not found. Please update jupyter and ipywidgets. See https://ipywidgets.readthedocs.io/en/stable/user_install.html\n",
      "  from .autonotebook import tqdm as notebook_tqdm\n"
     ]
    },
    {
     "name": "stdout",
     "output_type": "stream",
     "text": [
      "Loading CLIP model...\n",
      "Loaded CLIP model\n"
     ]
    },
    {
     "name": "stderr",
     "output_type": "stream",
     "text": [
      "/home/nightstalker/miniconda3/envs/pytorch/lib/python3.11/site-packages/transformers/tokenization_utils_base.py:1617: FutureWarning: `clean_up_tokenization_spaces` was not set. It will be set to `True` by default. This behavior will be deprecated in transformers v4.45, and will be then set to `False` by default. For more details check this issue: https://github.com/huggingface/transformers/issues/31884\n",
      "  warnings.warn(\n"
     ]
    },
    {
     "name": "stdout",
     "output_type": "stream",
     "text": [
      "Loaded CLIP processor\n",
      "Evaluating CLIP model on validation set...\n"
     ]
    },
    {
     "name": "stderr",
     "output_type": "stream",
     "text": [
      "100%|██████████| 302/302 [00:47<00:00,  6.38it/s]\n"
     ]
    }
   ],
   "source": [
    "from transformers import CLIPProcessor, CLIPModel\n",
    "from PIL import Image\n",
    "import requests\n",
    "from io import BytesIO\n",
    "from tqdm import tqdm\n",
    "import torch\n",
    "\n",
    "print(\"Loading CLIP model...\")\n",
    "\n",
    "# Load the CLIP model and processor\n",
    "model = CLIPModel.from_pretrained(\"openai/clip-vit-base-patch32\")\n",
    "print(\"Loaded CLIP model\")\n",
    "processor = CLIPProcessor.from_pretrained(\"openai/clip-vit-base-patch32\")\n",
    "print(\"Loaded CLIP processor\")\n",
    "\n",
    "y_pred_clip = []\n",
    "print(\"Evaluating CLIP model on validation set...\")\n",
    "for row in tqdm(rows):\n",
    "    image_url = row[4]\n",
    "    # Define your text prompt and load the product image\n",
    "    text_prompt = \"dispenser pump\"\n",
    "    image = Image.open(BytesIO(requests.get(image_url).content))\n",
    "    # Prepare the inputs\n",
    "    inputs = processor(text=[text_prompt], images=image, return_tensors=\"pt\", padding=True)\n",
    "\n",
    "    # Obtain the image and text embeddings\n",
    "    with torch.no_grad():\n",
    "        outputs = model(**inputs)\n",
    "        image_embeddings = outputs.image_embeds  # shape: [batch_size, embedding_dim]\n",
    "        text_embeddings = outputs.text_embeds    # shape: [batch_size, embedding_dim]\n",
    "\n",
    "    # Normalize embeddings\n",
    "    image_embeddings = image_embeddings / image_embeddings.norm(p=2, dim=-1, keepdim=True)\n",
    "    text_embeddings = text_embeddings / text_embeddings.norm(p=2, dim=-1, keepdim=True)\n",
    "\n",
    "    # Compute cosine similarity\n",
    "    cosine_similarity = (image_embeddings * text_embeddings).sum(dim=-1)\n",
    "    # print(\"Cosine Similarity:\", cosine_similarity.item())\n",
    "\n",
    "    # Set an empirical threshold (e.g., 0.3 or 0.4) based on validation\n",
    "    threshold = 0.2\n",
    "    if cosine_similarity.item() > threshold:\n",
    "        y_pred_clip.append(1)\n",
    "    else:\n",
    "        y_pred_clip.append(0)\n"
   ]
  },
  {
   "cell_type": "code",
   "execution_count": 14,
   "metadata": {},
   "outputs": [
    {
     "name": "stdout",
     "output_type": "stream",
     "text": [
      "0.6324503311258278\n",
      "[[186 104]\n",
      " [  7   5]]\n",
      "              precision    recall  f1-score   support\n",
      "\n",
      "           0       0.96      0.64      0.77       290\n",
      "           1       0.05      0.42      0.08        12\n",
      "\n",
      "    accuracy                           0.63       302\n",
      "   macro avg       0.50      0.53      0.43       302\n",
      "weighted avg       0.93      0.63      0.74       302\n",
      "\n"
     ]
    }
   ],
   "source": [
    "accuracy = accuracy_score(y_true_dh, y_pred_clip)\n",
    "print(accuracy)\n",
    "\n",
    "confusion = confusion_matrix(y_true_dh, y_pred_clip)\n",
    "print(confusion)\n",
    "\n",
    "report = classification_report(y_true_dh, y_pred_clip)\n",
    "print(report)"
   ]
  },
  {
   "cell_type": "markdown",
   "metadata": {},
   "source": [
    "## BLIP Benchmark"
   ]
  },
  {
   "cell_type": "code",
   "execution_count": 15,
   "metadata": {},
   "outputs": [
    {
     "name": "stderr",
     "output_type": "stream",
     "text": [
      "/home/nightstalker/miniconda3/envs/pytorch/lib/python3.11/site-packages/transformers/tokenization_utils_base.py:1617: FutureWarning: `clean_up_tokenization_spaces` was not set. It will be set to `True` by default. This behavior will be deprecated in transformers v4.45, and will be then set to `False` by default. For more details check this issue: https://github.com/huggingface/transformers/issues/31884\n",
      "  warnings.warn(\n",
      "/home/nightstalker/miniconda3/envs/pytorch/lib/python3.11/site-packages/transformers/generation/utils.py:1220: UserWarning: Using the model-agnostic default `max_length` (=20) to control the generation length. We recommend setting `max_new_tokens` to control the maximum length of the generation.\n",
      "  warnings.warn(\n"
     ]
    },
    {
     "name": "stdout",
     "output_type": "stream",
     "text": [
      "BLIP Answer: a real baby? liquid\n"
     ]
    }
   ],
   "source": [
    "from transformers import BlipProcessor, BlipForConditionalGeneration\n",
    "from PIL import Image\n",
    "import torch\n",
    "\n",
    "# Load BLIP model and processor (using the image captioning/VQA model)\n",
    "processor = BlipProcessor.from_pretrained(\"Salesforce/blip-image-captioning-base\")\n",
    "model = BlipForConditionalGeneration.from_pretrained(\"Salesforce/blip-image-captioning-base\")\n",
    "\n",
    "image_url = rows[0][4]\n",
    "\n",
    "# Load your product image\n",
    "image = Image.open(BytesIO(requests.get(image_url).content))\n",
    "\n",
    "# Prepare your question prompt\n",
    "question = \"a real baby?\"\n",
    "\n",
    "# Process the inputs for BLIP (it will combine the image and text prompt)\n",
    "inputs = processor(images=image, text=question, return_tensors=\"pt\")\n",
    "\n",
    "# Generate an answer (BLIP generates a text answer)\n",
    "with torch.no_grad():\n",
    "    out = model.generate(**inputs)\n",
    "\n",
    "# Decode the generated text answer\n",
    "answer = processor.decode(out[0], skip_special_tokens=True)\n",
    "print(\"BLIP Answer:\", answer)"
   ]
  },
  {
   "cell_type": "markdown",
   "metadata": {},
   "source": [
    "## Heuristic Benchmark"
   ]
  },
  {
   "cell_type": "code",
   "execution_count": 16,
   "metadata": {},
   "outputs": [],
   "source": [
    "query_heuristic = \"\"\"\n",
    "SELECT *\n",
    "FROM Baby_Bath_Skin_and_Grooming\n",
    "WHERE name LIKE '%everyday%'\n",
    "   OR sub_category LIKE '%everyday%'\n",
    "   OR main_category LIKE '%everyday%'\n",
    "   OR name LIKE '%regular%'\n",
    "   OR name LIKE '%standard%'\n",
    "   OR sub_category LIKE '%regular%'\n",
    "   OR sub_category LIKE '%standard%';\n",
    "\"\"\"\n",
    "\n",
    "cursor.execute(query_heuristic)\n",
    "rows_heuristic = cursor.fetchall()"
   ]
  },
  {
   "cell_type": "code",
   "execution_count": 17,
   "metadata": {},
   "outputs": [
    {
     "data": {
      "text/plain": [
       "[]"
      ]
     },
     "execution_count": 17,
     "metadata": {},
     "output_type": "execute_result"
    }
   ],
   "source": [
    "rows_heuristic"
   ]
  }
 ],
 "metadata": {
  "kernelspec": {
   "display_name": "pytorch",
   "language": "python",
   "name": "python3"
  },
  "language_info": {
   "codemirror_mode": {
    "name": "ipython",
    "version": 3
   },
   "file_extension": ".py",
   "mimetype": "text/x-python",
   "name": "python",
   "nbconvert_exporter": "python",
   "pygments_lexer": "ipython3",
   "version": "3.11.9"
  }
 },
 "nbformat": 4,
 "nbformat_minor": 2
}
